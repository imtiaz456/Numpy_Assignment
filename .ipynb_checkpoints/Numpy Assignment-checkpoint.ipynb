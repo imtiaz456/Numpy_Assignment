{
 "cells": [
  {
   "cell_type": "code",
   "execution_count": 1,
   "id": "b7da4314",
   "metadata": {},
   "outputs": [
    {
     "data": {
      "text/plain": [
       "array([0, 1, 2, 3, 4, 5, 6, 7, 8, 9])"
      ]
     },
     "execution_count": 1,
     "metadata": {},
     "output_type": "execute_result"
    }
   ],
   "source": [
    "import numpy as np\n",
    "\n",
    "#Problem 1\n",
    "#Convert a 1D array to a 2D array with 2 rows\n",
    "arr = np.arange(10)\n",
    "arr"
   ]
  },
  {
   "cell_type": "code",
   "execution_count": 2,
   "id": "c5da4bdf",
   "metadata": {},
   "outputs": [
    {
     "name": "stdout",
     "output_type": "stream",
     "text": [
      "[[0 1 2 3 4]\n",
      " [5 6 7 8 9]]\n"
     ]
    }
   ],
   "source": [
    "new_arr = arr.reshape(2,5)\n",
    "print(new_arr)"
   ]
  },
  {
   "cell_type": "code",
   "execution_count": 3,
   "id": "e32c5d69",
   "metadata": {},
   "outputs": [],
   "source": [
    "# ravel() operation is used to convert mltidimentional into one dimention"
   ]
  },
  {
   "cell_type": "code",
   "execution_count": 4,
   "id": "50b226f6",
   "metadata": {},
   "outputs": [
    {
     "name": "stdout",
     "output_type": "stream",
     "text": [
      "[0 1 2 3 4 5 6 7 8 9]\n"
     ]
    }
   ],
   "source": [
    "#Problem 2\n",
    "\n",
    "#Extract all odd numbers from arr\n",
    "arr1 = np.array([0, 1, 2, 3, 4, 5, 6, 7, 8, 9])\n",
    "print(arr1)"
   ]
  },
  {
   "cell_type": "code",
   "execution_count": 5,
   "id": "79fb162f",
   "metadata": {},
   "outputs": [
    {
     "name": "stdout",
     "output_type": "stream",
     "text": [
      "[1 3 5 7 9]\n"
     ]
    }
   ],
   "source": [
    "arr1 = arr1[arr1%2!=0]\n",
    "print(arr1)"
   ]
  },
  {
   "cell_type": "code",
   "execution_count": 6,
   "id": "61f6e9b3",
   "metadata": {},
   "outputs": [
    {
     "name": "stdout",
     "output_type": "stream",
     "text": [
      "[0 1 2 3 4 5 6 7 8 9]\n"
     ]
    }
   ],
   "source": [
    "#Problem 3\n",
    "\n",
    "#Replace all odd numbers in arr with -1\n",
    "\n",
    "arr2 = np.array([0, 1, 2, 3, 4, 5, 6, 7, 8, 9])\n",
    "print(arr2)"
   ]
  },
  {
   "cell_type": "code",
   "execution_count": 7,
   "id": "5bb4d23d",
   "metadata": {},
   "outputs": [
    {
     "name": "stdout",
     "output_type": "stream",
     "text": [
      "[ 0 -1  2 -1  4 -1  6 -1  8 -1]\n"
     ]
    }
   ],
   "source": [
    "arr3 = arr2[arr2%2==1]\n",
    "arr2[arr3] = -1\n",
    "print(arr2)"
   ]
  },
  {
   "cell_type": "code",
   "execution_count": 8,
   "id": "1907f7da",
   "metadata": {},
   "outputs": [
    {
     "data": {
      "text/plain": [
       "array([0, 1, 2, 3, 4, 5, 6, 7, 8, 9])"
      ]
     },
     "execution_count": 8,
     "metadata": {},
     "output_type": "execute_result"
    }
   ],
   "source": [
    "#Problem 4\n",
    "\n",
    "#Replace all odd numbers in arr with -1 without changing arr\n",
    "\n",
    "arr = np.array([0, 1, 2, 3, 4, 5, 6, 7, 8, 9])\n",
    "arr"
   ]
  },
  {
   "cell_type": "code",
   "execution_count": 9,
   "id": "ad968845",
   "metadata": {},
   "outputs": [
    {
     "data": {
      "text/plain": [
       "array([0, 1, 2, 3, 4, 5, 6, 7, 8, 9])"
      ]
     },
     "execution_count": 9,
     "metadata": {},
     "output_type": "execute_result"
    }
   ],
   "source": [
    "array1 = arr\n",
    "array1"
   ]
  },
  {
   "cell_type": "code",
   "execution_count": 10,
   "id": "4fe0971e",
   "metadata": {},
   "outputs": [
    {
     "name": "stdout",
     "output_type": "stream",
     "text": [
      "[1 3 5 7 9]\n",
      "[ 0 -1  2 -1  4 -1  6 -1  8 -1]\n"
     ]
    }
   ],
   "source": [
    "array2 = array1[array1%2 == 1]\n",
    "array1[array2] = -1\n",
    "print(array2)\n",
    "print(array1)"
   ]
  },
  {
   "cell_type": "code",
   "execution_count": 11,
   "id": "15df9f27",
   "metadata": {},
   "outputs": [
    {
     "data": {
      "text/plain": [
       "array([ 0, -1,  2, -1,  4, -1,  6, -1,  8, -1])"
      ]
     },
     "execution_count": 11,
     "metadata": {},
     "output_type": "execute_result"
    }
   ],
   "source": [
    "arr"
   ]
  },
  {
   "cell_type": "code",
   "execution_count": 12,
   "id": "10d671cd",
   "metadata": {},
   "outputs": [],
   "source": [
    "#Problem 5\n",
    "\n",
    "#Stack arrays a and b vertically\n",
    "\n",
    "a = np.arange(10).reshape(2,-1)\n",
    "b = np.repeat(1, 10).reshape(2,-1)\n"
   ]
  },
  {
   "cell_type": "code",
   "execution_count": 13,
   "id": "9051d362",
   "metadata": {},
   "outputs": [
    {
     "name": "stdout",
     "output_type": "stream",
     "text": [
      "[[0 1 2 3 4]\n",
      " [5 6 7 8 9]]\n",
      "[[1 1 1 1 1]\n",
      " [1 1 1 1 1]]\n"
     ]
    }
   ],
   "source": [
    "print(a)\n",
    "print(b)"
   ]
  },
  {
   "cell_type": "code",
   "execution_count": 14,
   "id": "9271bc5b",
   "metadata": {},
   "outputs": [
    {
     "data": {
      "text/plain": [
       "array([[0, 1, 2, 3, 4],\n",
       "       [5, 6, 7, 8, 9],\n",
       "       [1, 1, 1, 1, 1],\n",
       "       [1, 1, 1, 1, 1]])"
      ]
     },
     "execution_count": 14,
     "metadata": {},
     "output_type": "execute_result"
    }
   ],
   "source": [
    "np.vstack((a,b))"
   ]
  },
  {
   "cell_type": "code",
   "execution_count": 67,
   "id": "9cb6e985",
   "metadata": {},
   "outputs": [
    {
     "data": {
      "text/plain": [
       "array([1, 2, 3])"
      ]
     },
     "execution_count": 67,
     "metadata": {},
     "output_type": "execute_result"
    }
   ],
   "source": [
    "# Problem 7\n",
    "\n",
    "# Create the following pattern without hardcoding. Use only numpy functions and the below \n",
    "#input array a.\n",
    "\n",
    "a = np.array([1,2,3])\n",
    "a"
   ]
  },
  {
   "cell_type": "code",
   "execution_count": 68,
   "id": "0fa4b5ff",
   "metadata": {},
   "outputs": [
    {
     "data": {
      "text/plain": [
       "array([1, 1, 1, 2, 2, 2, 3, 3, 3])"
      ]
     },
     "execution_count": 68,
     "metadata": {},
     "output_type": "execute_result"
    }
   ],
   "source": [
    "a1 = np.repeat(a,3)\n",
    "a1"
   ]
  },
  {
   "cell_type": "code",
   "execution_count": 69,
   "id": "ec4f04c2",
   "metadata": {},
   "outputs": [
    {
     "data": {
      "text/plain": [
       "array([1, 1, 1, 2, 2, 2, 3, 3, 3, 1, 2, 3, 1, 2, 3, 1, 2, 3])"
      ]
     },
     "execution_count": 69,
     "metadata": {},
     "output_type": "execute_result"
    }
   ],
   "source": [
    "np.r_[np.repeat(a , 3), np.tile(a,3)]"
   ]
  },
  {
   "cell_type": "code",
   "execution_count": 70,
   "id": "bc16e885",
   "metadata": {},
   "outputs": [],
   "source": [
    "# Problem  8\n",
    "\n",
    "# From array a remove all items present in array b\n",
    "\n",
    "a = np.array([1,2,3,4,5])\n",
    "b = np.array([5,6,7,8,9])\n",
    "\n",
    "# Desired Output:\n",
    "# array([1,2,3,4])"
   ]
  },
  {
   "cell_type": "code",
   "execution_count": 20,
   "id": "facb7b65",
   "metadata": {},
   "outputs": [
    {
     "data": {
      "text/plain": [
       "array([1, 2, 3, 4])"
      ]
     },
     "execution_count": 20,
     "metadata": {},
     "output_type": "execute_result"
    }
   ],
   "source": [
    "result = np.setdiff1d(a , b)\n",
    "result"
   ]
  },
  {
   "cell_type": "code",
   "execution_count": 74,
   "id": "071e54e0",
   "metadata": {},
   "outputs": [],
   "source": [
    "# Problem  9\n",
    "\n",
    "# Get the positions where elements of a and b match\n",
    "\n",
    "a = np.array([1,2,3,2,3,4,3,4,5,6])\n",
    "b = np.array([7,2,10,2,7,4,9,4,9,8])\n",
    "\n",
    "# Desired Output:\n",
    "# (array([1, 3, 5, 7]),)"
   ]
  },
  {
   "cell_type": "code",
   "execution_count": 75,
   "id": "f5bde6d7",
   "metadata": {},
   "outputs": [
    {
     "data": {
      "text/plain": [
       "(array([1, 3, 5, 7], dtype=int64),)"
      ]
     },
     "execution_count": 75,
     "metadata": {},
     "output_type": "execute_result"
    }
   ],
   "source": [
    "np.where(a == b)"
   ]
  },
  {
   "cell_type": "code",
   "execution_count": 76,
   "id": "2a6d9514",
   "metadata": {},
   "outputs": [
    {
     "data": {
      "text/plain": [
       "array([2, 4])"
      ]
     },
     "execution_count": 76,
     "metadata": {},
     "output_type": "execute_result"
    }
   ],
   "source": [
    "np.intersect1d(a,b)"
   ]
  },
  {
   "cell_type": "code",
   "execution_count": 82,
   "id": "7e48b87e",
   "metadata": {},
   "outputs": [],
   "source": [
    "# Problem  10\n",
    "\n",
    "# Swap columns 1 and 2 in the array arr.\n",
    "\n",
    "arr = np.arange(9).reshape(3,3)\n",
    "\n",
    "# Output:\n",
    "# array([[1, 0, 2],\n",
    "#       [4, 3, 5],\n",
    "#       [7, 6, 8]])"
   ]
  },
  {
   "cell_type": "code",
   "execution_count": 79,
   "id": "11168c61",
   "metadata": {},
   "outputs": [
    {
     "data": {
      "text/plain": [
       "array([[0, 1, 2],\n",
       "       [3, 4, 5],\n",
       "       [6, 7, 8]])"
      ]
     },
     "execution_count": 79,
     "metadata": {},
     "output_type": "execute_result"
    }
   ],
   "source": [
    "arr"
   ]
  },
  {
   "cell_type": "code",
   "execution_count": 80,
   "id": "753ead35",
   "metadata": {},
   "outputs": [
    {
     "data": {
      "text/plain": [
       "array([[1, 0, 2],\n",
       "       [4, 3, 5],\n",
       "       [7, 6, 8]])"
      ]
     },
     "execution_count": 80,
     "metadata": {},
     "output_type": "execute_result"
    }
   ],
   "source": [
    "arr[:,[1,0]] = arr[:,[0,1]]\n",
    "arr"
   ]
  },
  {
   "cell_type": "code",
   "execution_count": 83,
   "id": "f91a0cbc",
   "metadata": {},
   "outputs": [
    {
     "data": {
      "text/plain": [
       "array([[1, 0, 2],\n",
       "       [4, 3, 5],\n",
       "       [7, 6, 8]])"
      ]
     },
     "execution_count": 83,
     "metadata": {},
     "output_type": "execute_result"
    }
   ],
   "source": [
    "arr[:,[1,0,2]]"
   ]
  },
  {
   "cell_type": "code",
   "execution_count": 26,
   "id": "803473db",
   "metadata": {},
   "outputs": [],
   "source": [
    "# Problem  11\n",
    "\n",
    "# From the array a, replace all values greater than 30 to 30 and less than 10 to 10.\n",
    "\n",
    "# Input:\n",
    "np.random.seed(100)\n",
    "a = np.random.uniform(1,50, 20)"
   ]
  },
  {
   "cell_type": "code",
   "execution_count": 27,
   "id": "2c84c83c",
   "metadata": {},
   "outputs": [
    {
     "data": {
      "text/plain": [
       "array([27.62684215, 14.64009987, 21.80136195, 42.39403048,  1.23122395,\n",
       "        6.95688692, 33.86670515, 41.466785  ,  7.69862289, 29.17957314,\n",
       "       44.67477576, 11.25090398, 10.08108276,  6.31046763, 11.76517714,\n",
       "       48.95256545, 40.77247431,  9.42510962, 40.99501269, 14.42961361])"
      ]
     },
     "execution_count": 27,
     "metadata": {},
     "output_type": "execute_result"
    }
   ],
   "source": [
    "a"
   ]
  },
  {
   "cell_type": "code",
   "execution_count": 28,
   "id": "0701a029",
   "metadata": {},
   "outputs": [],
   "source": [
    "a[a > 30] = 30\n",
    "a[a < 10] = 10"
   ]
  },
  {
   "cell_type": "code",
   "execution_count": 29,
   "id": "3f4ac560",
   "metadata": {},
   "outputs": [
    {
     "name": "stdout",
     "output_type": "stream",
     "text": [
      "[27.62684215 14.64009987 21.80136195 30.         10.         10.\n",
      " 30.         30.         10.         29.17957314 30.         11.25090398\n",
      " 10.08108276 10.         11.76517714 30.         30.         10.\n",
      " 30.         14.42961361]\n"
     ]
    }
   ],
   "source": [
    "print(a)"
   ]
  },
  {
   "cell_type": "code",
   "execution_count": 97,
   "id": "b0c3e94b",
   "metadata": {},
   "outputs": [
    {
     "data": {
      "text/plain": [
       "array([[ 9,  9,  4,  8,  8,  1,  5,  3,  6,  3],\n",
       "       [ 3,  3,  2,  1,  9,  5,  1, 10,  7,  3],\n",
       "       [ 5,  2,  6,  4,  5,  5,  4,  8,  2,  2],\n",
       "       [ 8,  8,  1,  3, 10, 10,  4,  3,  6,  9],\n",
       "       [ 2,  1,  8,  7,  3,  1,  9,  3,  6,  2],\n",
       "       [ 9,  2,  6,  5,  3,  9,  4,  6,  1, 10]])"
      ]
     },
     "execution_count": 97,
     "metadata": {},
     "output_type": "execute_result"
    }
   ],
   "source": [
    "# Problem  12\n",
    "\n",
    "# Compute the counts of unique values row-wise.\n",
    "\n",
    "# Input:\n",
    "np.random.seed(100)\n",
    "arr = np.random.randint(1,11,size=(6, 10))\n",
    "arr\n",
    "# Desired Output:\n",
    "# > [[1, 0, 2, 1, 1, 1, 0, 2, 2, 0],\n",
    "# >  [2, 1, 3, 0, 1, 0, 1, 0, 1, 1],\n",
    "# >  [0, 3, 0, 2, 3, 1, 0, 1, 0, 0],\n",
    "# >  [1, 0, 2, 1, 0, 1, 0, 2, 1, 2],\n",
    "# >  [2, 2, 2, 0, 0, 1, 1, 1, 1, 0],\n",
    "# >  [1, 1, 1, 1, 1, 2, 0, 0, 2, 1]]"
   ]
  },
  {
   "cell_type": "code",
   "execution_count": 98,
   "id": "54a6fe18",
   "metadata": {},
   "outputs": [
    {
     "data": {
      "text/plain": [
       "6"
      ]
     },
     "execution_count": 98,
     "metadata": {},
     "output_type": "execute_result"
    }
   ],
   "source": [
    "len(np.unique(arr , axis=0))"
   ]
  },
  {
   "cell_type": "code",
   "execution_count": 100,
   "id": "79cebfc1",
   "metadata": {},
   "outputs": [
    {
     "name": "stdout",
     "output_type": "stream",
     "text": [
      "[ 1  2  3  4  5  6  7  8  9 10]\n"
     ]
    },
    {
     "data": {
      "text/plain": [
       "[[1, 0, 0, 0, 0, 0],\n",
       " [0, 1, 0, 0, 0, 0],\n",
       " [0, 0, 1, 0, 0, 0],\n",
       " [0, 1, 0, 0, 0, 0],\n",
       " [0, 0, 1, 0, 0, 0],\n",
       " [0, 0, 0, 1, 0, 0],\n",
       " [0, 0, 1, 0, 0, 0],\n",
       " [0, 0, 0, 1, 0, 0],\n",
       " [0, 0, 0, 0, 1, 0],\n",
       " [0, 0, 0, 0, 0, 1]]"
      ]
     },
     "execution_count": 100,
     "metadata": {},
     "output_type": "execute_result"
    }
   ],
   "source": [
    "def counts_of_all_values_rowwise(arr2d):\n",
    "    num_counts_array = [np.unique(row , return_counts= True) for row in arr2d]\n",
    "    return([[int(b[a == i]) if i in a else 0 for i in np.unique(arr2d)] for a, b in num_counts_array])\n",
    "print(np.arange(1,11))\n",
    "counts_of_all_values_rowwise(a)"
   ]
  },
  {
   "cell_type": "code",
   "execution_count": 101,
   "id": "73f112d8",
   "metadata": {},
   "outputs": [
    {
     "data": {
      "text/plain": [
       "array([2, 3, 2, 2, 2, 1])"
      ]
     },
     "execution_count": 101,
     "metadata": {},
     "output_type": "execute_result"
    }
   ],
   "source": [
    "# Problem 13\n",
    "\n",
    "# Compute the one-hot encodings (dummy binary variables for each unique value in the array)\n",
    "np.random.seed(101) \n",
    "arr = np.random.randint(1,4, size=6)\n",
    "arr"
   ]
  },
  {
   "cell_type": "code",
   "execution_count": 102,
   "id": "f8ca7c79",
   "metadata": {},
   "outputs": [
    {
     "data": {
      "text/plain": [
       "array([[0., 1., 0.],\n",
       "       [0., 0., 1.],\n",
       "       [0., 1., 0.],\n",
       "       [0., 1., 0.],\n",
       "       [0., 1., 0.],\n",
       "       [1., 0., 0.]])"
      ]
     },
     "execution_count": 102,
     "metadata": {},
     "output_type": "execute_result"
    }
   ],
   "source": [
    "# encoded_array = np.zeros((b.size, b.max()+1), dtype = int)\n",
    "def one_hot_encodings(arr):\n",
    "    uniqs = np.unique(arr)\n",
    "    out = np.zeros((arr.shape[0], uniqs.shape[0]))\n",
    "    for i , k in enumerate(arr):\n",
    "        out[i , k-1] = 1\n",
    "    return out\n",
    "one_hot_encodings(arr)"
   ]
  },
  {
   "cell_type": "code",
   "execution_count": 60,
   "id": "ba0b0f88",
   "metadata": {},
   "outputs": [
    {
     "name": "stdout",
     "output_type": "stream",
     "text": [
      "[ 9  4 15  0 17 16 17  8  9  0]\n"
     ]
    }
   ],
   "source": [
    "# Problem 14\n",
    "\n",
    "# Create the ranks for the given numeric array a.\n",
    "\n",
    "np.random.seed(10)\n",
    "a = np.random.randint(20, size=10)\n",
    "print(a)\n",
    "#> [ 9  4 15  0 17 16 17  8  9  0]\n",
    "\n",
    "# Desired output:\n",
    "# [4 2 6 0 8 7 9 3 5 1]"
   ]
  },
  {
   "cell_type": "code",
   "execution_count": 63,
   "id": "c3b2e249",
   "metadata": {},
   "outputs": [
    {
     "name": "stdout",
     "output_type": "stream",
     "text": [
      "[4 2 6 0 8 7 9 3 5 1]\n"
     ]
    }
   ],
   "source": [
    "sorting_a = a.argsort()\n",
    "ranks_of_a = np.empty_like(sorting_a)\n",
    "ranks_of_a[sorting_a] = np.arange(len(a))\n",
    "print(ranks_of_a)"
   ]
  },
  {
   "cell_type": "code",
   "execution_count": 64,
   "id": "66014a84",
   "metadata": {},
   "outputs": [
    {
     "name": "stdout",
     "output_type": "stream",
     "text": [
      "[[ 9  4 15  0 17]\n",
      " [16 17  8  9  0]]\n"
     ]
    }
   ],
   "source": [
    "# Problem 15\n",
    "\n",
    "# Create a rank array of the same shape as a given numeric array a.\n",
    "\n",
    "np.random.seed(10)\n",
    "a = np.random.randint(20, size=[2,5])\n",
    "print(a)\n",
    "#> [[ 9  4 15  0 17]\n",
    "#>  [16 17  8  9  0]]\n",
    "# Desired output:\n",
    "\n",
    "#> [[4 2 6 0 8]\n",
    "#>  [7 9 3 5 1]]"
   ]
  },
  {
   "cell_type": "code",
   "execution_count": 65,
   "id": "93f3eebd",
   "metadata": {},
   "outputs": [
    {
     "data": {
      "text/plain": [
       "array([[4, 2, 6, 0, 8],\n",
       "       [7, 9, 3, 5, 1]], dtype=int64)"
      ]
     },
     "execution_count": 65,
     "metadata": {},
     "output_type": "execute_result"
    }
   ],
   "source": [
    "# a.ravel().argsort().argsort().reshape(a.shape)\n",
    "a.ravel().argsort().argsort().reshape(a.shape)"
   ]
  },
  {
   "cell_type": "code",
   "execution_count": 1,
   "id": "ea7e8da0",
   "metadata": {},
   "outputs": [
    {
     "data": {
      "text/plain": [
       "array([[9, 9, 4],\n",
       "       [8, 8, 1],\n",
       "       [5, 3, 6],\n",
       "       [3, 3, 3],\n",
       "       [2, 1, 9]])"
      ]
     },
     "execution_count": 1,
     "metadata": {},
     "output_type": "execute_result"
    }
   ],
   "source": [
    "# Problem  16\n",
    "\n",
    "# Compute the min-by-max for each row for given 2d numpy array\n",
    "\n",
    "# Input:\n",
    "np.random.seed(100)\n",
    "a = np.random.randint(1,10, [5,3])\n",
    "a\n",
    "#> array([[9, 9, 4],\n",
    "#>        [8, 8, 1],\n",
    "#>        [5, 3, 6],\n",
    "#>        [3, 3, 3],\n",
    "#>        [2, 1, 9]])\n",
    "\n",
    "\n",
    "# Desired Output:\n",
    "# array([ 0.44444444,  0.125     ,  0.5       ,  1.        ,  0.11111111])"
   ]
  },
  {
   "cell_type": "code",
   "execution_count": 3,
   "id": "d6766b4f",
   "metadata": {},
   "outputs": [
    {
     "data": {
      "text/plain": [
       "array([0.44444444, 0.125     , 0.5       , 1.        , 0.11111111])"
      ]
     },
     "execution_count": 3,
     "metadata": {},
     "output_type": "execute_result"
    }
   ],
   "source": [
    "np.apply_along_axis(lambda x: np.min(x)/np.max(x), arr = a, axis = 1)"
   ]
  },
  {
   "cell_type": "code",
   "execution_count": 106,
   "id": "3f73cfc2",
   "metadata": {},
   "outputs": [
    {
     "name": "stdout",
     "output_type": "stream",
     "text": [
      "Array:  [0 0 3 0 2 4 2 2 2 2]\n"
     ]
    }
   ],
   "source": [
    "# Problem 17\n",
    "\n",
    "# Find the duplicate entries (2nd occurrence onwards) in the given numpy array and mark them as True.\n",
    "# First time occurrences should be False\n",
    "\n",
    "# Input\n",
    "\n",
    "np.random.seed(100)\n",
    "a = np.random.randint(0, 5, 10)\n",
    "print('Array: ', a)\n",
    "#> Array: [0 0 3 0 2 4 2 2 2 2]\n",
    "# Desired Output:\n",
    "\n",
    "#> [False  True False  True False False  True  True  True  True]"
   ]
  },
  {
   "cell_type": "code",
   "execution_count": 107,
   "id": "3d6efd15",
   "metadata": {},
   "outputs": [],
   "source": [
    "out = np.full(a.shape[0],True)\n",
    "unique_positions = np.unique(a , return_index= True)[1]"
   ]
  },
  {
   "cell_type": "code",
   "execution_count": 112,
   "id": "8c4b8130",
   "metadata": {},
   "outputs": [
    {
     "name": "stdout",
     "output_type": "stream",
     "text": [
      "[False  True False  True False False  True  True  True  True]\n"
     ]
    }
   ],
   "source": [
    "out[unique_positions] = False\n",
    "print(out)"
   ]
  },
  {
   "cell_type": "code",
   "execution_count": 9,
   "id": "a3280084",
   "metadata": {},
   "outputs": [
    {
     "data": {
      "text/plain": [
       "array([ 1.,  2.,  3., nan,  5.,  6.,  7., nan])"
      ]
     },
     "execution_count": 9,
     "metadata": {},
     "output_type": "execute_result"
    }
   ],
   "source": [
    "# Problem 18\n",
    "\n",
    "# Drop all nan values from a 1D numpy array\n",
    "\n",
    "np.array([1,2,3,np.nan,5,6,7,np.nan])\n",
    "# Desired Output:\n",
    "\n",
    "# array([ 1.,  2.,  3.,  5.,  6.,  7.])"
   ]
  },
  {
   "cell_type": "code",
   "execution_count": 5,
   "id": "0f41c4e4",
   "metadata": {},
   "outputs": [
    {
     "data": {
      "text/plain": [
       "array([1., 2., 3., 5., 6., 7.])"
      ]
     },
     "execution_count": 5,
     "metadata": {},
     "output_type": "execute_result"
    }
   ],
   "source": [
    "a = np.array([1,2,3,np.nan,5,6,7,np.nan])\n",
    "a[~np.isnan(a)]"
   ]
  },
  {
   "cell_type": "code",
   "execution_count": 10,
   "id": "c64779f3",
   "metadata": {},
   "outputs": [
    {
     "data": {
      "text/plain": [
       "array([1., 2., 3., 5., 6., 7.])"
      ]
     },
     "execution_count": 10,
     "metadata": {},
     "output_type": "execute_result"
    }
   ],
   "source": [
    "a[np.isfinite(a)]"
   ]
  },
  {
   "cell_type": "code",
   "execution_count": 12,
   "id": "825c0c14",
   "metadata": {},
   "outputs": [
    {
     "data": {
      "text/plain": [
       "array([1, 3, 7, 1, 2, 6, 0, 1])"
      ]
     },
     "execution_count": 12,
     "metadata": {},
     "output_type": "execute_result"
    }
   ],
   "source": [
    "# Problem 19\n",
    "\n",
    "# Find all the peaks in a 1D numpy array a. Peaks are points surrounded by smaller values\n",
    "# on both sides.\n",
    "\n",
    "a = np.array([1, 3, 7, 1, 2, 6, 0, 1])\n",
    "a\n",
    "# Desired Output:\n",
    "\n",
    "#> array([2, 5])"
   ]
  },
  {
   "cell_type": "code",
   "execution_count": 14,
   "id": "1ea0874d",
   "metadata": {},
   "outputs": [
    {
     "data": {
      "text/plain": [
       "array([2, 5], dtype=int64)"
      ]
     },
     "execution_count": 14,
     "metadata": {},
     "output_type": "execute_result"
    }
   ],
   "source": [
    "doublediff = np.diff(np.sign(np.diff(a)))\n",
    "peak_locations = np.where(doublediff == -2)[0] + 1\n",
    "peak_locations"
   ]
  },
  {
   "cell_type": "code",
   "execution_count": 32,
   "id": "0670e4e3",
   "metadata": {},
   "outputs": [
    {
     "name": "stdout",
     "output_type": "stream",
     "text": [
      "[[2 2 2]\n",
      " [2 2 2]\n",
      " [2 2 2]]\n"
     ]
    }
   ],
   "source": [
    "# Problem 20\n",
    "\n",
    "# Subtract the 1d array b_1d from the 2d array a_2d, such that each item of b_1d subtracts from\n",
    "# respective row of a_2d.\n",
    "\n",
    "a= np.array([[3,3,3],[4,4,4],[5,5,5]])\n",
    "b = np.array([1,2,3])\n",
    "print(a - b[:,None])"
   ]
  },
  {
   "cell_type": "code",
   "execution_count": 43,
   "id": "6567ea0d",
   "metadata": {},
   "outputs": [],
   "source": [
    "# Problem 21\n",
    "\n",
    "# Find the index of 5th repetition of number 1 in x.\n",
    "\n",
    "x = np.array([1, 2, 1, 1, 3, 4, 3, 1, 1, 2, 1, 1, 2])"
   ]
  },
  {
   "cell_type": "code",
   "execution_count": 62,
   "id": "c69f25d8",
   "metadata": {},
   "outputs": [
    {
     "data": {
      "text/plain": [
       "8"
      ]
     },
     "execution_count": 62,
     "metadata": {},
     "output_type": "execute_result"
    }
   ],
   "source": [
    "n = 5\n",
    "np.where(x == 1)[0][n-1]"
   ]
  },
  {
   "cell_type": "code",
   "execution_count": 64,
   "id": "a154d3ad",
   "metadata": {},
   "outputs": [
    {
     "data": {
      "text/plain": [
       "array([ 5,  8, 11, 14, 17, 20, 23, 26, 29, 32])"
      ]
     },
     "execution_count": 64,
     "metadata": {},
     "output_type": "execute_result"
    }
   ],
   "source": [
    "# Problem 22\n",
    "\n",
    "# Create a numpy array of length 10, starting from 5 and has a step of 3 between consecutive numbers\n",
    "length = 10\n",
    "start = 5\n",
    "step = 3\n",
    "\n",
    "def seq(start, length, step):\n",
    "    end = start+(step*length)\n",
    "    return np.arange(start, end, step)\n",
    "seq(start, length, step)"
   ]
  },
  {
   "cell_type": "code",
   "execution_count": 65,
   "id": "b49358b3",
   "metadata": {},
   "outputs": [
    {
     "data": {
      "text/plain": [
       "array([ 0,  1,  2,  3,  4,  5,  6,  7,  8,  9, 10, 11, 12, 13, 14])"
      ]
     },
     "execution_count": 65,
     "metadata": {},
     "output_type": "execute_result"
    }
   ],
   "source": [
    "# Problem 23\n",
    "\n",
    "# From the given 1d array arr, generate a 2d matrix using strides, with a window length of 4 and \n",
    "# strides of 2, like [[0,1,2,3], [2,3,4,5], [4,5,6,7]..]\n",
    "\n",
    "arr = np.arange(15) \n",
    "arr\n",
    "#> array([ 0,  1,  2,  3,  4,  5,  6,  7,  8,  9, 10, 11, 12, 13, 14])\n",
    "# Desired Output:\n",
    "\n",
    "#> [[ 0  1  2  3]\n",
    "#>  [ 2  3  4  5]\n",
    "#>  [ 4  5  6  7]\n",
    "#>  [ 6  7  8  9]\n",
    "#>  [ 8  9 10 11]\n",
    "#>  [10 11 12 13]]"
   ]
  },
  {
   "cell_type": "code",
   "execution_count": 67,
   "id": "255fdc44",
   "metadata": {},
   "outputs": [
    {
     "name": "stdout",
     "output_type": "stream",
     "text": [
      "[[ 0  1  2  3]\n",
      " [ 2  3  4  5]\n",
      " [ 4  5  6  7]\n",
      " [ 6  7  8  9]\n",
      " [ 8  9 10 11]\n",
      " [10 11 12 13]]\n"
     ]
    }
   ],
   "source": [
    "def gen_strides(a, stride_len=5, window_len=5):\n",
    "    n_strides = ((a.size-window_len)//stride_len) + 1\n",
    "    return np.array([a[s:(s+window_len)] for s in np.arange(0, n_strides*stride_len, stride_len)])\n",
    "\n",
    "print(gen_strides(np.arange(15), stride_len=2, window_len=4))"
   ]
  },
  {
   "cell_type": "code",
   "execution_count": null,
   "id": "45b1a2af",
   "metadata": {},
   "outputs": [],
   "source": []
  }
 ],
 "metadata": {
  "kernelspec": {
   "display_name": "Python 3 (ipykernel)",
   "language": "python",
   "name": "python3"
  },
  "language_info": {
   "codemirror_mode": {
    "name": "ipython",
    "version": 3
   },
   "file_extension": ".py",
   "mimetype": "text/x-python",
   "name": "python",
   "nbconvert_exporter": "python",
   "pygments_lexer": "ipython3",
   "version": "3.9.13"
  },
  "toc": {
   "base_numbering": 1,
   "nav_menu": {},
   "number_sections": true,
   "sideBar": true,
   "skip_h1_title": false,
   "title_cell": "Table of Contents",
   "title_sidebar": "Contents",
   "toc_cell": false,
   "toc_position": {},
   "toc_section_display": true,
   "toc_window_display": false
  },
  "varInspector": {
   "cols": {
    "lenName": 16,
    "lenType": 16,
    "lenVar": 40
   },
   "kernels_config": {
    "python": {
     "delete_cmd_postfix": "",
     "delete_cmd_prefix": "del ",
     "library": "var_list.py",
     "varRefreshCmd": "print(var_dic_list())"
    },
    "r": {
     "delete_cmd_postfix": ") ",
     "delete_cmd_prefix": "rm(",
     "library": "var_list.r",
     "varRefreshCmd": "cat(var_dic_list()) "
    }
   },
   "types_to_exclude": [
    "module",
    "function",
    "builtin_function_or_method",
    "instance",
    "_Feature"
   ],
   "window_display": false
  }
 },
 "nbformat": 4,
 "nbformat_minor": 5
}
